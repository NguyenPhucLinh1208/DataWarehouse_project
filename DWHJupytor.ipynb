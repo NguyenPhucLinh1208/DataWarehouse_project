{
 "cells": [
  {
   "cell_type": "markdown",
   "metadata": {},
   "source": [
    "## 1. Thong tin ve ho so cong ty"
   ]
  },
  {
   "cell_type": "code",
   "execution_count": null,
   "metadata": {},
   "outputs": [
    {
     "name": "stderr",
     "output_type": "stream",
     "text": [
      "2024-12-05 09:24:26 - vnstock3.common.data.data_explorer - WARNING - Thông tin niêm yết & giao dịch sẽ được truy xuất từ TCBS\n"
     ]
    }
   ],
   "source": [
    "from vnstock3 import Vnstock\n",
    "import pandas as pd\n",
    "\n",
    "stock = Vnstock().stock(symbol='VCI', source='VCI')\n",
    "\n",
    "\n",
    "# Giả sử MaCks là một DataFrame\n",
    "MaCks = stock.listing.symbols_by_industries()\n",
    "\n",
    "# Lọc theo cột 'organ_name' chứa chữ \"bất động sản\" (không phân biệt hoa thường)\n",
    "filtered = MaCks[MaCks['icb_name3'].str.contains('bất động sản', case=False, na=False)]\n",
    "\n",
    "filtered = filtered.reset_index(drop=True)\n",
    "\n",
    "MaCk_bds = filtered['symbol']"
   ]
  },
  {
   "cell_type": "code",
   "execution_count": 7,
   "metadata": {},
   "outputs": [],
   "source": [
    "path = '/opt/datawarehouse/Tasks/HistoricalData/MaCks.txt'\n",
    "MaCk_bds.to_csv(path, index=False, header=False)"
   ]
  }
 ],
 "metadata": {
  "kernelspec": {
   "display_name": "local",
   "language": "python",
   "name": "python3"
  },
  "language_info": {
   "codemirror_mode": {
    "name": "ipython",
    "version": 3
   },
   "file_extension": ".py",
   "mimetype": "text/x-python",
   "name": "python",
   "nbconvert_exporter": "python",
   "pygments_lexer": "ipython3",
   "version": "3.12.7"
  }
 },
 "nbformat": 4,
 "nbformat_minor": 2
}
